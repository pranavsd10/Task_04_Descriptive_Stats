{
 "cells": [
  {
   "cell_type": "markdown",
   "id": "abb7de75",
   "metadata": {},
   "source": [
    "## Titanic"
   ]
  },
  {
   "cell_type": "code",
   "execution_count": 1,
   "id": "5b5bf01f",
   "metadata": {},
   "outputs": [
    {
     "name": "stdout",
     "output_type": "stream",
     "text": [
      "=== Descriptive Statistics (Numeric Columns) ===\n",
      "PassengerId: {'count': 891, 'mean': 446.0, 'min': 1.0, 'max': 891.0, 'std': 257.20938292890224}\n",
      "Survived: {'count': 891, 'mean': 0.3838383838383838, 'min': 0.0, 'max': 1.0, 'std': 0.48631931786709987}\n",
      "Pclass: {'count': 891, 'mean': 2.308641975308642, 'min': 1.0, 'max': 3.0, 'std': 0.8356019334795166}\n",
      "Age: {'count': 714, 'mean': 29.69911764705882, 'min': 0.42, 'max': 80.0, 'std': 14.516321150817316}\n",
      "SibSp: {'count': 891, 'mean': 0.5230078563411896, 'min': 0.0, 'max': 8.0, 'std': 1.1021244350892878}\n",
      "Parch: {'count': 891, 'mean': 0.38159371492704824, 'min': 0.0, 'max': 6.0, 'std': 0.8056047612452208}\n",
      "Fare: {'count': 891, 'mean': 32.204207968574636, 'min': 0.0, 'max': 512.3292, 'std': 49.6655344447741}\n",
      "\n",
      "=== Categorical Value Counts ===\n",
      "Name: [('Braund, Mr. Owen Harris', 1), ('Cumings, Mrs. John Bradley (Florence Briggs Thayer)', 1), ('Heikkinen, Miss. Laina', 1), ('Futrelle, Mrs. Jacques Heath (Lily May Peel)', 1), ('Allen, Mr. William Henry', 1)]\n",
      "Sex: [('male', 577), ('female', 314)]\n",
      "Ticket: [('347082', 7), ('1601', 7), ('CA. 2343', 7), ('3101295', 6), ('CA 2144', 6)]\n",
      "Cabin: [('', 687), ('G6', 4), ('C23 C25 C27', 4), ('B96 B98', 4), ('F33', 3)]\n",
      "Embarked: [('S', 644), ('C', 168), ('Q', 77), ('', 2)]\n"
     ]
    }
   ],
   "source": [
    "import csv\n",
    "from collections import defaultdict, Counter\n",
    "import math\n",
    "\n",
    "filename = \"titanic.csv\"\n",
    "\n",
    "def is_float(val):\n",
    "    try:\n",
    "        float(val)\n",
    "        return True\n",
    "    except:\n",
    "        return False\n",
    "\n",
    "def describe_column(values):\n",
    "    numeric_values = [float(v) for v in values if is_float(v)]\n",
    "    count = len(numeric_values)\n",
    "    mean = sum(numeric_values) / count if count else None\n",
    "    minimum = min(numeric_values) if numeric_values else None\n",
    "    maximum = max(numeric_values) if numeric_values else None\n",
    "    std = math.sqrt(sum((x - mean) ** 2 for x in numeric_values) / count) if count else None\n",
    "    return {\"count\": count, \"mean\": mean, \"min\": minimum, \"max\": maximum, \"std\": std}\n",
    "\n",
    "def value_counts(values):\n",
    "    return Counter(values)\n",
    "\n",
    "with open(filename, newline='', encoding=\"utf-8\") as f:\n",
    "    reader = csv.DictReader(f)\n",
    "    data = defaultdict(list)\n",
    "    for row in reader:\n",
    "        for key, value in row.items():\n",
    "            data[key].append(value)\n",
    "\n",
    "print(\"=== Descriptive Statistics (Numeric Columns) ===\")\n",
    "for col, values in data.items():\n",
    "    if all(is_float(v) or v == '' for v in values):\n",
    "        stats = describe_column(values)\n",
    "        print(f\"{col}: {stats}\")\n",
    "\n",
    "print(\"\\n=== Categorical Value Counts ===\")\n",
    "for col, values in data.items():\n",
    "    if not all(is_float(v) or v == '' for v in values):\n",
    "        counts = value_counts(values)\n",
    "        print(f\"{col}: {counts.most_common(5)}\")\n"
   ]
  },
  {
   "cell_type": "markdown",
   "id": "c5494dc6",
   "metadata": {},
   "source": [
    "## Iris"
   ]
  },
  {
   "cell_type": "code",
   "execution_count": 1,
   "id": "a87918fb",
   "metadata": {},
   "outputs": [
    {
     "name": "stdout",
     "output_type": "stream",
     "text": [
      "{'Id': {'count': 150, 'mean': 75.5, 'min': 1.0, 'max': 150.0, 'std': 43.445367992456916}, 'SepalLengthCm': {'count': 150, 'mean': 5.843333333333334, 'min': 4.3, 'max': 7.9, 'std': 0.828066127977863}, 'SepalWidthCm': {'count': 150, 'mean': 3.054, 'min': 2.0, 'max': 4.4, 'std': 0.43359431136217363}, 'PetalLengthCm': {'count': 150, 'mean': 3.7586666666666666, 'min': 1.0, 'max': 6.9, 'std': 1.7644204199522626}, 'PetalWidthCm': {'count': 150, 'mean': 1.1986666666666668, 'min': 0.1, 'max': 2.5, 'std': 0.7631607417008412}, 'Species': {'unique': 3, 'most_common': [('Iris-setosa', 50)]}}\n"
     ]
    }
   ],
   "source": [
    "import csv\n",
    "from collections import Counter\n",
    "from statistics import mean, stdev\n",
    "\n",
    "filepath = \"Iris.csv\"\n",
    "\n",
    "with open(filepath, \"r\", encoding=\"utf-8\") as f:\n",
    "    reader = csv.DictReader(f)\n",
    "    rows = list(reader)\n",
    "\n",
    "stats = {}\n",
    "sample_row = rows[0]\n",
    "numeric_cols = []\n",
    "\n",
    "for key, val in sample_row.items():\n",
    "    try:\n",
    "        float(val)\n",
    "        numeric_cols.append(key)\n",
    "    except:\n",
    "        continue\n",
    "\n",
    "for col in sample_row.keys():\n",
    "    col_data = [row[col] for row in rows if row[col]]\n",
    "    if col in numeric_cols:\n",
    "        numeric_values = [float(x) for x in col_data if x.replace('.', '', 1).isdigit()]\n",
    "        if numeric_values:\n",
    "            stats[col] = {\n",
    "                'count': len(numeric_values),\n",
    "                'mean': mean(numeric_values),\n",
    "                'min': min(numeric_values),\n",
    "                'max': max(numeric_values),\n",
    "                'std': stdev(numeric_values) if len(numeric_values) > 1 else 0.0,\n",
    "            }\n",
    "    else:\n",
    "        freq = Counter(col_data)\n",
    "        stats[col] = {\n",
    "            'unique': len(freq),\n",
    "            'most_common': freq.most_common(1)\n",
    "        }\n",
    "\n",
    "print(stats)\n"
   ]
  },
  {
   "cell_type": "markdown",
   "id": "091152bf",
   "metadata": {},
   "source": [
    "## Netflix"
   ]
  },
  {
   "cell_type": "code",
   "execution_count": 2,
   "id": "69b6136b",
   "metadata": {},
   "outputs": [
    {
     "name": "stdout",
     "output_type": "stream",
     "text": [
      "{'show_id': {'unique': 8807, 'most_common': [('s1', 1)]}, 'type': {'unique': 2, 'most_common': [('Movie', 6131)]}, 'title': {'unique': 8807, 'most_common': [('Dick Johnson Is Dead', 1)]}, 'director': {'unique': 4528, 'most_common': [('Rajiv Chilaka', 19)]}, 'cast': {'unique': 7692, 'most_common': [('David Attenborough', 19)]}, 'country': {'unique': 748, 'most_common': [('United States', 2818)]}, 'date_added': {'unique': 1767, 'most_common': [('January 1, 2020', 109)]}, 'release_year': {'count': 8807, 'mean': 2014.1801975701146, 'min': 1925.0, 'max': 2021.0, 'std': 8.819312130833968}, 'rating': {'unique': 17, 'most_common': [('TV-MA', 3207)]}, 'duration': {'unique': 220, 'most_common': [('1 Season', 1793)]}, 'listed_in': {'unique': 514, 'most_common': [('Dramas, International Movies', 362)]}, 'description': {'unique': 8775, 'most_common': [('Paranormal activity at a lush, abandoned property alarms a group eager to redevelop the site, but the eerie events may not be as unearthly as they think.', 4)]}}\n"
     ]
    }
   ],
   "source": [
    "import csv\n",
    "from collections import Counter\n",
    "from statistics import mean, stdev\n",
    "\n",
    "filepath = \"netflix_titles.csv\"  \n",
    "\n",
    "with open(filepath, \"r\", encoding=\"utf-8\") as f:\n",
    "    reader = csv.DictReader(f)\n",
    "    rows = list(reader)\n",
    "\n",
    "stats = {}\n",
    "sample_row = rows[0]\n",
    "numeric_cols = []\n",
    "\n",
    "for key, val in sample_row.items():\n",
    "    try:\n",
    "        float(val)\n",
    "        numeric_cols.append(key)\n",
    "    except:\n",
    "        continue\n",
    "\n",
    "for col in sample_row.keys():\n",
    "    col_data = [row[col] for row in rows if row[col]]\n",
    "    if col in numeric_cols:\n",
    "        numeric_values = [float(x) for x in col_data if x.replace('.', '', 1).isdigit()]\n",
    "        if numeric_values:\n",
    "            stats[col] = {\n",
    "                'count': len(numeric_values),\n",
    "                'mean': mean(numeric_values),\n",
    "                'min': min(numeric_values),\n",
    "                'max': max(numeric_values),\n",
    "                'std': stdev(numeric_values) if len(numeric_values) > 1 else 0.0,\n",
    "            }\n",
    "    else:\n",
    "        freq = Counter(col_data)\n",
    "        stats[col] = {\n",
    "            'unique': len(freq),\n",
    "            'most_common': freq.most_common(1)\n",
    "        }\n",
    "\n",
    "print(stats)\n"
   ]
  }
 ],
 "metadata": {
  "kernelspec": {
   "display_name": "Python 3",
   "language": "python",
   "name": "python3"
  },
  "language_info": {
   "codemirror_mode": {
    "name": "ipython",
    "version": 3
   },
   "file_extension": ".py",
   "mimetype": "text/x-python",
   "name": "python",
   "nbconvert_exporter": "python",
   "pygments_lexer": "ipython3",
   "version": "3.12.4"
  }
 },
 "nbformat": 4,
 "nbformat_minor": 5
}
